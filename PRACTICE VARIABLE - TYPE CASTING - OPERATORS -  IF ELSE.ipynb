{
  "nbformat": 4,
  "nbformat_minor": 0,
  "metadata": {
    "colab": {
      "provenance": []
    },
    "kernelspec": {
      "name": "python3",
      "display_name": "Python 3"
    },
    "language_info": {
      "name": "python"
    }
  },
  "cells": [
    {
      "cell_type": "code",
      "execution_count": null,
      "metadata": {
        "colab": {
          "base_uri": "https://localhost:8080/"
        },
        "id": "7fQ6LH6C15Fk",
        "outputId": "e995abfa-e06b-42ac-fadf-ec5555d7da24"
      },
      "outputs": [
        {
          "output_type": "stream",
          "name": "stdout",
          "text": [
            "Nhập một số nguyên từ bàn phím: 2\n",
            "2  là số nguyên dương\n"
          ]
        }
      ],
      "source": [
        "'''Bài tập 1: Nhập một số nguyên n khác 0 từ bàn phím, kiểm tra xem số n vừa nhập vào đó là số dương hay âm và in ra màn hình '''\n",
        "a = int(input('Nhập một số nguyên từ bàn phím: '))\n",
        "\n",
        "if a == 0:\n",
        "    print('Vui lòng nhập số khác 0')\n",
        "elif a > 0:\n",
        "    print(a,' là số nguyên dương')\n",
        "else:\n",
        "    print(a,' là số nguyên âm')"
      ]
    },
    {
      "cell_type": "code",
      "source": [
        "'''Bài tập 2: Nhập điểm trung bình (dtb) của một học sinh từ bàn phím, sau đó in ra màn hình xếp loại của học sinh này.\n",
        "\tBiết rằng:\n",
        "dtb < 4 : Xếp loại yếu\n",
        "4 <= dtb < 6.5: Xếp loại trung bình\n",
        "6.5 <= dtb < 8 : Xếp loại khá\n",
        "dtb >= 8 : Xếp loại giỏi '''\n",
        "\n",
        "score = float(input('Nhập điểm trung bình: '))\n",
        "\n",
        "if score >= 8:\n",
        "  print('Xếp loại giỏi')\n",
        "elif score >= 6.5:\n",
        "  print('Xếp loại khá')\n",
        "elif score >= 4:\n",
        "  print('Xếp loại trung bình')\n",
        "else:\n",
        "  print('Xếp loại yếu')"
      ],
      "metadata": {
        "colab": {
          "base_uri": "https://localhost:8080/"
        },
        "id": "mV003Am52DKk",
        "outputId": "928a58eb-0514-472b-d7ba-e599d779aad1"
      },
      "execution_count": null,
      "outputs": [
        {
          "output_type": "stream",
          "name": "stdout",
          "text": [
            "Nhập điểm trung bình: 5\n",
            "Xếp loại trung bình\n"
          ]
        }
      ]
    },
    {
      "cell_type": "code",
      "source": [
        "'''Bài tập 3: Nhập vào lần lượt 3 hệ số a, b, c của phương trình bậc 2 (ax^2+bx+c = 0). Giải phương trình bậc 2 trên và in nghiệm ra màn hình. '''\n",
        "a = float(input(\"Nhập hệ số a từ bàn phím: \"))\n",
        "b = float(input(\"Nhập hệ số b từ bàn phím: \"))\n",
        "c = float(input(\"Nhập hệ số c từ bàn phím: \"))\n",
        "denta= b**2 - 4*a*c\n",
        "\n",
        "if a == 0:\n",
        "  print(\"Vui lòng nhập số khác 0\")\n",
        "elif denta > 0:\n",
        "  print(\"Phương trình có 2 nghiệm phân biệt: \",\"x1= \", (-b + denta ** 0.5)/ 2*a,\" và x2= \", (-b - denta ** 0.5)/ 2*a)\n",
        "elif denta == 0:\n",
        "  print(\"Phương trình có 1 nghiệm kép: x = \", -b/2*a)\n",
        "else:\n",
        "  print(\"Phương trình vô nghiệm\")"
      ],
      "metadata": {
        "colab": {
          "base_uri": "https://localhost:8080/"
        },
        "id": "bpxi-0p32JY6",
        "outputId": "c7ce23d0-b3c1-4529-b37d-dc458be36b99"
      },
      "execution_count": null,
      "outputs": [
        {
          "output_type": "stream",
          "name": "stdout",
          "text": [
            "Nhập hệ số a từ bàn phím: 2\n",
            "Nhập hệ số b từ bàn phím: 4\n",
            "Nhập hệ số c từ bàn phím: -4\n",
            "Phương trình có 2 nghiệm phân biệt:  x1=  2.9282032302755088  và x2=  -10.928203230275509\n"
          ]
        }
      ]
    },
    {
      "cell_type": "code",
      "source": [
        "'''Bài tập 4: Hãy sử dụng Python để giải bài toán cổ sau : “ Vừa gà vừa chó, Bó lại cho tròn, Ba mươi sáu con, Một trăm chân chẵn “'''\n",
        "for ga in range (36 + 1): #Sử dụng con số 36 là vì đây là số có liên quan đến đề bài. Lý do 36 + 1 là vì range trả về phạm vi từ a đến b-1 tức là nếu chỉ ghi 36 thì dữ liệu sẽ trả từ 0 -> 35 vậy nên phải ghi 36 + 1 để dữ liệu vừa liên quan đến bài vừa đảm bảo biến 'ga' được lặp  đủ\n",
        "  cho = 36 - ga\n",
        "  if 2*ga + 4*cho == 100:\n",
        "    print(f'Số gà: {ga} con, Số chó: {cho} con')\n",
        "    break"
      ],
      "metadata": {
        "colab": {
          "base_uri": "https://localhost:8080/"
        },
        "id": "lhmuLB0Q2RFS",
        "outputId": "a7890f0c-bde2-4155-d453-b3fc14fc54d8"
      },
      "execution_count": null,
      "outputs": [
        {
          "output_type": "stream",
          "name": "stdout",
          "text": [
            "Số gà: 22 con, Số chó: 14 con\n"
          ]
        }
      ]
    },
    {
      "cell_type": "code",
      "source": [
        "'''Bài tập 5: Tạo 3 biến lưu trữ 3 giá trị nhập vào ngày tháng năm, in ra ngày hôm sau và ngày hôm qua của ngày vừa nhập. (Bài tập khó)\n",
        "  Bài này khó thật nên em sử dụng Chat GPT ^^'''\n",
        "from datetime import datetime, timedelta\n",
        "ngay = int(input('Nhập giá trị ngày: '))\n",
        "thang = int(input('Nhập giá trị tháng: '))\n",
        "nam = int(input('Nhập giá trị năm: '))\n",
        "try:\n",
        "  ngay_hom_nay = datetime(nam, thang, ngay)\n",
        "  ngay_hom_qua = ngay_hom_nay - timedelta(days=1)\n",
        "  ngay_mai = ngay_hom_nay + timedelta(days=1)\n",
        "\n",
        "  print(f\"Ngày hôm qua là:  {ngay_hom_qua.strftime('%d/%m/%Y')}\") #strftime với mục đích chuyển kết quả sang dạng chuỗi cho đẹp\n",
        "  print(f\"Ngày mai là: {ngay_mai.strftime('%d/%m/%Y')}\")\n",
        "except ValueError:\n",
        "  print('Ngày, tháng, năm không hợp lệ!')"
      ],
      "metadata": {
        "colab": {
          "base_uri": "https://localhost:8080/"
        },
        "id": "lkg0gOO42Wbr",
        "outputId": "d8aba8c4-5734-4083-804b-584d02faead6"
      },
      "execution_count": null,
      "outputs": [
        {
          "output_type": "stream",
          "name": "stdout",
          "text": [
            "Nhập giá trị ngày: 5\n",
            "Nhập giá trị tháng: 4\n",
            "Nhập giá trị năm: 2025\n",
            "Ngày hôm qua là:  04/04/2025\n",
            "Ngày mai là: 06/04/2025\n"
          ]
        }
      ]
    },
    {
      "cell_type": "code",
      "source": [],
      "metadata": {
        "id": "viMzskOW2bCw"
      },
      "execution_count": null,
      "outputs": []
    }
  ]
}