{
  "nbformat": 4,
  "nbformat_minor": 0,
  "metadata": {
    "colab": {
      "provenance": []
    },
    "kernelspec": {
      "name": "python3",
      "display_name": "Python 3"
    },
    "language_info": {
      "name": "python"
    }
  },
  "cells": [
    {
      "cell_type": "markdown",
      "source": [],
      "metadata": {
        "id": "GIB-NkAPGQJx"
      }
    },
    {
      "cell_type": "code",
      "source": [
        "import pandas as pd\n",
        "df = pd.read_csv('Data_Practices_Sales.csv')"
      ],
      "metadata": {
        "id": "usaBlHTjHsXa"
      },
      "execution_count": null,
      "outputs": []
    },
    {
      "cell_type": "code",
      "execution_count": null,
      "metadata": {
        "colab": {
          "base_uri": "https://localhost:8080/"
        },
        "id": "AUttkCtaFdOD",
        "outputId": "876b211c-fd2c-4e53-f3f8-71b086d40112"
      },
      "outputs": [
        {
          "output_type": "stream",
          "name": "stdout",
          "text": [
            "Tổng số đơn hàng là  5009\n",
            "\n",
            "Có tất cả  793  khách hàng \n"
          ]
        }
      ],
      "source": [
        "'''Bài tập 1:  Có tất cả bao nhiêu đơn hàng? Có tất cả bao nhiêu khách hàng đã mua hàng? '''\n",
        "num_order = df['Order ID'].nunique()\n",
        "print('Tổng số đơn hàng là ',num_order)\n",
        "\n",
        "cus_order = df['Customer ID'].nunique()\n",
        "print('\\nCó tất cả ',cus_order, ' khách hàng ')\n"
      ]
    },
    {
      "cell_type": "code",
      "source": [
        "'''Bài tập 2: Category nào được mua nhiều nhất?'''\n",
        "#Đếm số lần xuất hiện của mỗi Cate -> output index: Category , Column: Count\n",
        "cate_count =  df['Category'].value_counts()\n",
        "#Trả về index của giá trị lớn nhất\n",
        "most_purchased_cate = cate_count.idxmax()\n",
        "#Trả về giá trị lớn nhất\n",
        "most_purchase_count = cate_count.max()\n",
        "\n",
        "print('Category được mua nhiều nhất là: ', most_purchased_cate)\n",
        "print('\\nSố lượng lượt mua: ',most_purchase_count )\n"
      ],
      "metadata": {
        "colab": {
          "base_uri": "https://localhost:8080/"
        },
        "id": "rvFocZ-gGS8G",
        "outputId": "f6dfcf92-fc54-49f3-807b-43876ace41ac"
      },
      "execution_count": null,
      "outputs": [
        {
          "output_type": "stream",
          "name": "stdout",
          "text": [
            "Category được mua nhiều nhất là:  Office Supplies\n",
            "\n",
            "Số lượng lượt mua:  6026\n"
          ]
        }
      ]
    },
    {
      "cell_type": "code",
      "source": [
        "'''Bài tập 3: Subcategory nào được mua nhiều nhất? '''\n",
        "#Đếm số lần xuất hiện của mỗi SubCate -> output index: Sub-Category , Column: Count\n",
        "SubCate_count = df['Sub-Category'].value_counts()\n",
        "#Trả về index của giá trị lớn nhất\n",
        "most_purchases_SubCate = SubCate_count.idxmax()\n",
        "#Trả về giá trị lớn nhất\n",
        "most_purchased_SubCount = SubCate_count.max()\n",
        "\n",
        "print('SubCategory được mua nhiều nhất là: ',most_purchases_SubCate )\n",
        "print('\\nSố lượng lượt mua: ', most_purchased_SubCount)\n"
      ],
      "metadata": {
        "colab": {
          "base_uri": "https://localhost:8080/"
        },
        "id": "Rh_HDoidGVoC",
        "outputId": "2405b121-b54d-439d-999a-f530391093ed"
      },
      "execution_count": null,
      "outputs": [
        {
          "output_type": "stream",
          "name": "stdout",
          "text": [
            "SubCategory được mua nhiều nhất là:  Binders\n",
            "\n",
            "Số lượng lượt mua:  1523\n"
          ]
        }
      ]
    },
    {
      "cell_type": "code",
      "source": [
        "'''Bài tập 4: Tổng doanh số của tất cả các đơn hàng là bao nhiêu? '''\n",
        "# Doanh số của mỗi đơn hàng\n",
        "Revenue_per_row = df['Sales'] * df['Quantity']\n",
        "# Tổng doanh số của tất cả đơn hàng\n",
        "Total_Revenue = Revenue_per_row.sum()\n",
        "\n",
        "print(f\"Tổng doanh số của tất cả các đơn hàng là: {Total_Revenue:,.2f}\" ) #f-string ,.2f phân tách dấu phẩy và giữ lại 2 số sau dấu chấmTo"
      ],
      "metadata": {
        "colab": {
          "base_uri": "https://localhost:8080/"
        },
        "id": "9S-rx_IpGZLR",
        "outputId": "5adf72cc-8a2d-4c90-8595-08e11c1afdd6"
      },
      "execution_count": null,
      "outputs": [
        {
          "output_type": "stream",
          "name": "stdout",
          "text": [
            "Tổng doanh số của tất cả các đơn hàng là: 11,466,101.07\n"
          ]
        }
      ]
    },
    {
      "cell_type": "code",
      "source": [
        "'''Bài tập 5: Tổng lợi nhuận của tất cả các đơn hàng là bao nhiêu? '''\n",
        "Total_Profit = df['Profit'].sum()\n",
        "print(f\"Tổng lợi nhuận của tất cả các đơn hàng là: {Total_Profit:,.2f}\" )"
      ],
      "metadata": {
        "colab": {
          "base_uri": "https://localhost:8080/"
        },
        "id": "DL5jwYzpGcTs",
        "outputId": "f5b8fe8e-e880-44d2-bdea-19e35e76778f"
      },
      "execution_count": null,
      "outputs": [
        {
          "output_type": "stream",
          "name": "stdout",
          "text": [
            "Tổng lợi nhuận của tất cả các đơn hàng là: 286,397.79\n"
          ]
        }
      ]
    },
    {
      "cell_type": "code",
      "source": [
        "'''Bài tập 6: Tổng doanh số và lợi nhuận của từng Category là bao nhiêu? '''\n",
        "#Thêm cột Revenue_per_row vào df\n",
        "df['Revenue_per_row'] = df['Sales'] * df['Quantity']\n",
        "#Tính doanh số và lợi nhuận của từng Category\n",
        "Total_Rev_Pro_Cate = df.groupby('Category')[['Revenue_per_row','Profit']].sum()\n",
        "#Đổi tên cột từ Revenue_per_row -> Revenue\n",
        "Total_Rev_Pro_Cate = Total_Rev_Pro_Cate.rename(columns={'Revenue_per_row':'Revenue'})\n",
        "\n",
        "print(Total_Rev_Pro_Cate)\n"
      ],
      "metadata": {
        "colab": {
          "base_uri": "https://localhost:8080/"
        },
        "id": "QJp4Hy_aGf8N",
        "outputId": "b369ab2f-c63d-4329-bbb3-cc2832177714"
      },
      "execution_count": null,
      "outputs": [
        {
          "output_type": "stream",
          "name": "stdout",
          "text": [
            "                    Revenue     Profit\n",
            "Category                              \n",
            "Furniture        3837259.40   18451.25\n",
            "Office Supplies  3548579.38  122490.88\n",
            "Technology       4080262.29  145455.66\n"
          ]
        }
      ]
    }
  ]
}