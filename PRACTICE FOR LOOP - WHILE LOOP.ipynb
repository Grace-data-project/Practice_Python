{
  "nbformat": 4,
  "nbformat_minor": 0,
  "metadata": {
    "colab": {
      "provenance": []
    },
    "kernelspec": {
      "name": "python3",
      "display_name": "Python 3"
    },
    "language_info": {
      "name": "python"
    }
  },
  "cells": [
    {
      "cell_type": "code",
      "execution_count": null,
      "metadata": {
        "colab": {
          "base_uri": "https://localhost:8080/"
        },
        "id": "4pYI92xNuzKU",
        "outputId": "4214bae4-2288-4055-e9ed-44195099ef22"
      },
      "outputs": [
        {
          "output_type": "stream",
          "name": "stdout",
          "text": [
            "Vui lòng nhập số nguyên dương: 6\n",
            "6  không phải là số nguyên tố\n"
          ]
        }
      ],
      "source": [
        "'''Bài tập 1: Viết một hàm kiem_tra_so_nguyen_to(n) nhận vào một số nguyên dương n và kiểm tra xem n có phải là số nguyên tố hay không.\n",
        "Sử dụng vòng lặp và kiểm tra các ước số của n để thực hiện tác vụ này.'''\n",
        "def check_prime(n):\n",
        "  if n < 2:\n",
        "    return False\n",
        "  for i in range ( 2, int(n/2)):\n",
        "    if n % i == 0:\n",
        "      return False\n",
        "  return True\n",
        "\n",
        "n = int(input('Vui lòng nhập số nguyên dương: '))\n",
        "if check_prime(n):\n",
        "  print(n , ' là số nguyên tố')\n",
        "else:\n",
        "  print(n , ' không phải là số nguyên tố')\n"
      ]
    },
    {
      "cell_type": "code",
      "source": [
        "'''Bài tập 2: Viết một hàm tinh_giai_thua(n) nhận vào một số nguyên dương n và tính giai thừa của n (n!)'''\n",
        "def tinh_giai_thua(n):\n",
        "  if n <= 0:\n",
        "    return \"Vui lòng nhập số nguyên dương\"\n",
        "  elif n == 0 or n == 1:\n",
        "    return 1\n",
        "  else:\n",
        "    giai_thua = 1 # ban đầu cần một giá trị để nhân dần, nếu gán giai_thua = 0 thì sau khi nhân giá trị trả về sẽ luôn luôn bằng 0 còn khi gán giá trị ban đầu = 1 thì bất kể có nhân với n là bao nhiêu thì cũng trả về n\n",
        "    for i in range( 2, n + 1):  # phạm vi bắt đầu từ 2 là vì đã gán giai_thua = 1 rồi nên có thể bỏ qua 1 và tính từ 2 trở đi\n",
        "      giai_thua *= i\n",
        "    return giai_thua\n",
        "\n",
        "n = int(input('Nhập số nguyên dương từ bàn phím: '))\n",
        "print('Giai thừa của số nguyên ',n, ' là ', tinh_giai_thua(n))\n",
        "\n"
      ],
      "metadata": {
        "colab": {
          "base_uri": "https://localhost:8080/"
        },
        "id": "P1n6QtURwYum",
        "outputId": "6500416b-71e1-4da6-8e9f-326f053baf73"
      },
      "execution_count": null,
      "outputs": [
        {
          "output_type": "stream",
          "name": "stdout",
          "text": [
            "Nhập số nguyên dương từ bàn phím: 7\n",
            "Giai thừa của số nguyên  7  là  5040\n"
          ]
        }
      ]
    },
    {
      "cell_type": "code",
      "source": [
        "'''Bài tập 3: Viết một hàm tinh_tong(n) nhận vào một số nguyên dương n và tính tổng các chữ số của n. Ví dụ: n = 123, thì hiển thị kết quả là 6.'''\n",
        "def tinh_tong(n):\n",
        "  if n <= 0:\n",
        "    return \"Vui lòng nhập số nguyên dương\"\n",
        "  tong =  sum(int(chu_so) for chu_so in  str(n))\n",
        "  return tong\n",
        "\n",
        "n = int(input('Nhập số nguyên dương vào đây: '))\n",
        "print('Tổng của các chữ số của ', n , ' là ', tinh_tong(n))"
      ],
      "metadata": {
        "colab": {
          "base_uri": "https://localhost:8080/"
        },
        "id": "VhaIrV5q2K7l",
        "outputId": "1d3b23a0-eeef-43d8-8802-645aa0dcdcbe"
      },
      "execution_count": null,
      "outputs": [
        {
          "output_type": "stream",
          "name": "stdout",
          "text": [
            "Nhập số nguyên dương vào đây: 789\n",
            "Tông của các chữ số của  789  là  24\n"
          ]
        }
      ]
    },
    {
      "cell_type": "code",
      "source": [
        "'''Bài tập 4: Viết một hàm tinh_trung_binh(data) nhận vào một danh sách số và tính trung bình cộng của các số trong danh sách đó.\n",
        "Sử dụng vòng lặp để lặp qua từng số trong danh sách và tính tổng các số'''\n",
        "def tinh_trung_binh(data):\n",
        "    if len(data) == 0:\n",
        "      return \"Danh sách rỗng\"\n",
        "    return sum(data) / len(data)\n",
        "\n",
        "input_str = input('Nhập các số, cách nhau bằng dấu cách ')\n",
        "data = [float(x) for x in input_str.split()] #Split tách input_str thành các danh sách nhỏ hơn dựa theo dấu cách khi nhập vào, x lọc qua từng danh sách nhỏ trong đó lúc này x là kiểu string, để thực hiện tính toán được thì phải đổi thành float\n",
        "print('Trung bình cộng của các số trong danh sách là: ', tinh_trung_binh(data))"
      ],
      "metadata": {
        "colab": {
          "base_uri": "https://localhost:8080/"
        },
        "id": "xrGrIdEw9Tf1",
        "outputId": "22b6da90-bc69-4d21-956e-bccdf14c6f3a"
      },
      "execution_count": null,
      "outputs": [
        {
          "output_type": "stream",
          "name": "stdout",
          "text": [
            "Nhập các số, cách nhau bằng dấu cách 4 5 6 7 8\n",
            "Trung bình cộng của các số trong danh sách là:  6.0\n"
          ]
        }
      ]
    },
    {
      "cell_type": "code",
      "source": [
        "'''Bài tập 4: Viết một hàm tinh_trung_binh(data) nhận vào một danh sách số và tính trung bình cộng của các số trong danh sách đó.\n",
        "Sử dụng vòng lặp để lặp qua từng số trong danh sách và tính tổng các số'''\n",
        "def tinh_trung_binh(data):\n",
        "    if len(data) == 0:\n",
        "      return \" Danh sách rỗng \"\n",
        "    return sum(data) / len(data)\n",
        "\n",
        "so_luong = int(input('Bạn muốn nhập vào bao nhiêu số? '))\n",
        "data = []\n",
        "\n",
        "for i in range(so_luong):\n",
        "  so = int(input(f\"Nhập vào giá trị thứ {i + 1}: \"))\n",
        "  data.append(so)\n",
        "print('Trung bình cộng của các số trong danh sách là: ', tinh_trung_binh(data))\n",
        "\n"
      ],
      "metadata": {
        "colab": {
          "base_uri": "https://localhost:8080/"
        },
        "id": "gtu8rRLgmU9t",
        "outputId": "7dce6b0d-9ad8-4e3b-ed62-f85839a22225"
      },
      "execution_count": null,
      "outputs": [
        {
          "output_type": "stream",
          "name": "stdout",
          "text": [
            "Bạn muốn nhập vào bao nhiêu số? 6\n",
            "Nhập vào giá trị thứ 1: 1\n",
            "Nhập vào giá trị thứ 2: 2\n",
            "Nhập vào giá trị thứ 3: 3\n",
            "Nhập vào giá trị thứ 4: 4\n",
            "Nhập vào giá trị thứ 5: 5\n",
            "Nhập vào giá trị thứ 6: 6\n",
            "Trung bình cộng của các số trong danh sách là:  3.5\n"
          ]
        }
      ]
    },
    {
      "cell_type": "code",
      "source": [
        "'''Bài tập 5: Viết một hàm dem_so_lan_xuat_hien(data) nhận vào một danh sách và đếm số lần xuất hiện của mỗi phần tử trong danh sách đó. '''\n",
        "def dem_so_lan_xuat_hien(data):\n",
        "  dem = {}\n",
        "  for phan_tu in data:\n",
        "    if phan_tu in dem:\n",
        "      dem[phan_tu] += 1\n",
        "    else:\n",
        "      dem[phan_tu] = 1\n",
        "  return dem\n",
        "\n",
        "data = input('Nhập một danh sách mà các giá trị trong danh sách được phân tách bởi dẩu cách: '). split()\n",
        "\n",
        "\n",
        "ket_qua = dem_so_lan_xuat_hien(data)\n",
        "print('\\nSố lần xuất hiện')\n",
        "for phan_tu, so_lan in ket_qua.items():\n",
        "  print('Phần tử ', phan_tu, ' xuất hiện: ', so_lan)"
      ],
      "metadata": {
        "colab": {
          "base_uri": "https://localhost:8080/"
        },
        "id": "dDncFBxX9avn",
        "outputId": "d3763205-7b36-4599-f5a4-00ceaf9fb9b5"
      },
      "execution_count": null,
      "outputs": [
        {
          "output_type": "stream",
          "name": "stdout",
          "text": [
            "Nhập một danh sách mà các giá trị trong danh sách được phân tách bởi dẩu cách: 1 2 3 4 5 6 vvv cc vv\n",
            "\n",
            "Số lần xuất hiện\n",
            "Phần tử  1  xuất hiện:  1\n",
            "Phần tử  2  xuất hiện:  1\n",
            "Phần tử  3  xuất hiện:  1\n",
            "Phần tử  4  xuất hiện:  1\n",
            "Phần tử  5  xuất hiện:  1\n",
            "Phần tử  6  xuất hiện:  1\n",
            "Phần tử  vvv  xuất hiện:  1\n",
            "Phần tử  cc  xuất hiện:  1\n",
            "Phần tử  vv  xuất hiện:  1\n"
          ]
        }
      ]
    },
    {
      "cell_type": "code",
      "source": [
        "'''Bài tập 5: Viết một hàm dem_so_lan_xuat_hien(data) nhận vào một danh sách và đếm số lần xuất hiện của mỗi phần tử trong danh sách đó. '''\n",
        "from collections import Counter\n",
        "data = input('Nhập một danh sách mà các giá trị trong danh sach được phân tách bởi dấu cách: '). split()\n",
        "dem = Counter(data)\n",
        "\n",
        "print('\\nSố lần xuất hiện')\n",
        "for so, so_lan in dem.items():\n",
        "  print('Phần tử ',so, ' xuất hiện ', so_lan)\n"
      ],
      "metadata": {
        "colab": {
          "base_uri": "https://localhost:8080/"
        },
        "id": "egmOgsljFrn0",
        "outputId": "926a3a4f-be32-4f30-9f5d-3e9a065110dd"
      },
      "execution_count": null,
      "outputs": [
        {
          "output_type": "stream",
          "name": "stdout",
          "text": [
            "Nhập một danh sách mà các giá trị trong danh sach được phân tách bởi dấu cách: 1 4 5 1 2 3 4 1 5 4 ccc vv cc vv\n",
            "\n",
            "Số lần xuất hiện\n",
            "Phần tử  1  xuất hiện  3\n",
            "Phần tử  4  xuất hiện  3\n",
            "Phần tử  5  xuất hiện  2\n",
            "Phần tử  2  xuất hiện  1\n",
            "Phần tử  3  xuất hiện  1\n",
            "Phần tử  ccc  xuất hiện  1\n",
            "Phần tử  vv  xuất hiện  2\n",
            "Phần tử  cc  xuất hiện  1\n"
          ]
        }
      ]
    }
  ]
}